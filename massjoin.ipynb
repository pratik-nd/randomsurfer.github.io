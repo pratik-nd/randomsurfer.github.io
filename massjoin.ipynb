{
 "cells": [
  {
   "cell_type": "markdown",
   "metadata": {},
   "source": [
    "# Large Scale Exact String Similarity Joins using the MassJoin Framework"
   ]
  },
  {
   "cell_type": "markdown",
   "metadata": {},
   "source": [
    "This blog post describes the MapReduce based <b>MassJoin</b> [Dong <i>et. al.</i> ICDE 2014] framework, which is a large scale <b>exact</b> string similarity join algorithm. I will primarily focus on the use-case of <b>SelfJoin</b> of a text dataset, using <b>Jaccard Index</b> as the string similarity measure."
   ]
  },
  {
   "cell_type": "code",
   "execution_count": null,
   "metadata": {
    "collapsed": true
   },
   "outputs": [],
   "source": []
  },
  {
   "cell_type": "code",
   "execution_count": null,
   "metadata": {
    "collapsed": true
   },
   "outputs": [],
   "source": []
  },
  {
   "cell_type": "markdown",
   "metadata": {},
   "source": [
    "### Problem Statement\n",
    "Given, two string datasets/collections ($\\mathcal{R}$ and $\\mathcal{S}$), a similarity measure $SIM$ and a similarity threshold $\\delta$. Then two strings $r \\in \\mathcal{R}$ and $s \\in \\mathcal{S}$ are similar if $SIM(r,s) \\geq \\delta$."
   ]
  },
  {
   "cell_type": "code",
   "execution_count": null,
   "metadata": {
    "collapsed": true
   },
   "outputs": [],
   "source": []
  }
 ],
 "metadata": {
  "kernelspec": {
   "display_name": "Python 2",
   "language": "python",
   "name": "python2"
  },
  "language_info": {
   "codemirror_mode": {
    "name": "ipython",
    "version": 2
   },
   "file_extension": ".py",
   "mimetype": "text/x-python",
   "name": "python",
   "nbconvert_exporter": "python",
   "pygments_lexer": "ipython2",
   "version": "2.7.5"
  }
 },
 "nbformat": 4,
 "nbformat_minor": 0
}
